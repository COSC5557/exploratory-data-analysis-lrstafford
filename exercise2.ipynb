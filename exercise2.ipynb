{
 "cells": [
  {
   "cell_type": "markdown",
   "id": "30f0ae47-cedb-4e9c-9c5f-1107768d3407",
   "metadata": {},
   "source": [
    "Repo is at: https://github.com/COSC5557/exploratory-data-analysis-lrstafford\n",
    "### Exploratory Data Analysis\n",
    "\n",
    "For this exercise, you will have a look at the raw data before doing any machine learning. This is to familiarize yourself with the data, see if there are any potential problems or obstacles for applying machine learning, and if and what preprocessing may be helpful.\n",
    "\n",
    "Your deliverable will be a report, written in a style that it would be suitable for inclusion in an academic paper as the \"Experimental Setup\" section or similar. If unsure, check an academic paper of your choice, for example this one. The level of detail should be higher than in a typical academic paper though. Your report should be at most five pages, including references and figures but excluding appendices. It should have the following structure:\n",
    "\n",
    "Introduction: What problem are you solving, how are you going to solve it.\n",
    "Results of the Analysis: Describe the data you're using, e.g. how many features and observations, what are you predicting, any missing values, etc. Include plots as appropriate.\n",
    "Code: Add the code you've used as a separate file.\n",
    "Your report must contain enough detail to reproduce what you did without the code. If in doubt, include more detail.\n",
    "\n",
    "There is no required format for the report. You could, for example, use an iPython notebook. Your report should contain a lot of plots or tables to illustrate the data. Describe any issues you found with the data."
   ]
  },
  {
   "cell_type": "markdown",
   "id": "f50964be-a5d3-4576-9c55-a2c329fe89a4",
   "metadata": {},
   "source": [
    "### Data\n",
    "\n",
    "Have a look at two different datasets. Ideally, they should have different characteristics so that the results of your analysis will be different. You could use, for example, the Wine Quality dataset (choose the type of wine of your preference)https://archive-beta.ics.uci.edu/dataset/186/wine+quality and the Primary Tumor dataset https://www.openml.org/search?type=data&sort=runs&id=1003&status=active. You may also use a dataset of your choice, for example one that's relevant to your research.\n",
    "\n",
    "Choose a small number of preprocessing methods (e.g. normalizing feature values) and explore their application to the data. This could, for example, include showing the distribution of feature values before and after preprocessing."
   ]
  },
  {
   "cell_type": "code",
   "execution_count": 8,
   "id": "01092f12-5256-4f8c-a51d-87a67589c24a",
   "metadata": {},
   "outputs": [],
   "source": [
    "#Class to display pdfs as embedded pdf within iframe - we'll need it to display the final paper.\n",
    "\n",
    "class PDF(object):\n",
    "  def __init__(self, pdf, size=(800,1200)):\n",
    "    self.pdf = pdf\n",
    "    self.size = size\n",
    "\n",
    "  def _repr_html_(self):\n",
    "    return '<iframe src={0} width={1[0]} height={1[1]}></iframe>'.format(self.pdf, self.size)\n",
    "\n",
    "  def _repr_latex_(self):\n",
    "    return r'\\includegraphics[width=1.0\\textwidth]{{{0}}}'.format(self.pdf)"
   ]
  },
  {
   "cell_type": "markdown",
   "id": "d877b968-c053-4e2e-bd95-cc705e6b1295",
   "metadata": {},
   "source": [
    "If we run this ML model as a decision tree, we do not care whether the data types are strings, booleans or numeric because the model does not care what types of data values we're using, however if we create the model using Logistic Regression, or Neural Network, we certainly want to change the data types because they determine how the feature values are encoded and represented in the model which may impact model accuracy and performance.     "
   ]
  },
  {
   "cell_type": "markdown",
   "id": "37f9fc53-75e1-42d0-96ac-f56ccb3741ae",
   "metadata": {},
   "source": [
    "We will perform ML training in a standardized model on each dataset before preprocessing and after preprocessing and use the same standardized metrics to evaluate model performance.  \n",
    "\n",
    "Preprocessing activities will include:  \n",
    "1. Perform our own Data Visualization\n",
    "    a. Plot a missing data heatmap\n",
    "    b. Show the nullity correlation between columns/features\n",
    "    \n",
    "2. Data Cleanup\n",
    "    a. Removal of non-useful characters in strings\n",
    "    b. Missing Value Interpolation/Impute on categorical variables (if applicable)\n",
    "    c. Predict Missing Values\n",
    "    d. Creating Correlation Matrices and setting correlation buckets for review.  Matrices create binary features where 0 is null and 1 means the value is present.  The model then expands this out using hot ones encoding to drill down to systematic causes of different variables and when they're missing as it appears to be correlary.\n",
    "    \n"
   ]
  },
  {
   "cell_type": "code",
   "execution_count": 10,
   "id": "9071b1a1-f143-47f6-a8cc-ce912e2737e9",
   "metadata": {},
   "outputs": [
    {
     "data": {
      "text/html": [
       "<iframe src=Exercise2.pdf width=800 height=1200></iframe>"
      ],
      "text/latex": [
       "\\includegraphics[width=1.0\\textwidth]{Exercise2.pdf}"
      ],
      "text/plain": [
       "<__main__.PDF at 0x109908c10>"
      ]
     },
     "execution_count": 10,
     "metadata": {},
     "output_type": "execute_result"
    }
   ],
   "source": [
    "PDF('Exercise2.pdf')"
   ]
  },
  {
   "cell_type": "markdown",
   "id": "e5dc4434-fe38-422f-b059-6d099954e783",
   "metadata": {},
   "source": [
    "### Submission\n",
    "\n",
    "Add your report and code to this repository. Bonus points if you can set up a Github action to automatically run the code and generate the report!"
   ]
  },
  {
   "cell_type": "code",
   "execution_count": null,
   "id": "163b5890-c9c8-42b1-91cf-c91827211bfd",
   "metadata": {},
   "outputs": [],
   "source": []
  },
  {
   "cell_type": "code",
   "execution_count": null,
   "id": "afcfc033",
   "metadata": {},
   "outputs": [],
   "source": []
  }
 ],
 "metadata": {
  "kernelspec": {
   "display_name": "Python 3 (ipykernel)",
   "language": "python",
   "name": "python3"
  },
  "language_info": {
   "codemirror_mode": {
    "name": "ipython",
    "version": 3
   },
   "file_extension": ".py",
   "mimetype": "text/x-python",
   "name": "python",
   "nbconvert_exporter": "python",
   "pygments_lexer": "ipython3",
   "version": "3.10.12"
  }
 },
 "nbformat": 4,
 "nbformat_minor": 5
}
